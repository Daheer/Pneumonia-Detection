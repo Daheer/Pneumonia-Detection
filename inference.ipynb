{
  "nbformat": 4,
  "nbformat_minor": 0,
  "metadata": {
    "colab": {
      "provenance": []
    },
    "kernelspec": {
      "name": "python3",
      "display_name": "Python 3"
    },
    "language_info": {
      "name": "python"
    }
  },
  "cells": [
    {
      "cell_type": "markdown",
      "source": [
        "<a href = \"https://colab.research.google.com/drive/1Z5yRnuUNHr6pbnkdjDAYFLS4Q-vXUFxk\">\n",
        "<img src = \"https://colab.research.google.com/assets/colab-badge.svg\\\"/>\n",
        "</a>"
      ],
      "metadata": {
        "id": "4zYoTJ62G9IN"
      }
    },
    {
      "cell_type": "code",
      "execution_count": null,
      "metadata": {
        "id": "VZShHxg4hQ9r"
      },
      "outputs": [],
      "source": [
        "!pip install datasets &>/dev/null\n",
        "!pip install transformers &>/dev/null\n",
        "!pip install gradio &>/dev/null\n",
        "!pip install -U --no-cache-dir gdown --pre"
      ]
    },
    {
      "cell_type": "code",
      "source": [
        "import gdown\n",
        "link = 'https://drive.google.com/uc?export=download&id=1kOa9PP1_ZaNlHSIBQXeHo3SG6crizgch'\n",
        "gdown.download(url = link, output = 'pneumonia_vit_model.zip')"
      ],
      "metadata": {
        "id": "hxkfFeHG3Goz"
      },
      "execution_count": null,
      "outputs": []
    },
    {
      "cell_type": "code",
      "source": [
        "!unzip pneumonia_vit_model.zip"
      ],
      "metadata": {
        "id": "YwNPQ4GWD5in"
      },
      "execution_count": null,
      "outputs": []
    },
    {
      "cell_type": "code",
      "execution_count": null,
      "metadata": {
        "id": "F0pK-yAQyA50"
      },
      "outputs": [],
      "source": [
        "import numpy as np\n",
        "import torch\n",
        "import gradio as gr\n",
        "from transformers import ViTForImageClassification\n",
        "from skimage.transform import resize\n",
        "\n",
        "model = ViTForImageClassification.from_pretrained(\n",
        "    'pneumonia_classifier')"
      ]
    },
    {
      "cell_type": "code",
      "source": [
        "def diagnose(X_Ray_Image):\n",
        "  X_Ray_Image = torch.tensor(resize(X_Ray_Image, (224, 224))).permute(2, 0, 1).unsqueeze(0)\n",
        "  result = model(X_Ray_Image).logits.argmax().item()\n",
        "  return 'Pneumonia' if result == 1 else 'Normal'\n",
        "app = gr.Interface(diagnose, inputs = gr.Image(), outputs = gr.Text())\n",
        "app.launch(share = True)"
      ],
      "metadata": {
        "id": "CE7XR4-u3oy4"
      },
      "execution_count": null,
      "outputs": []
    }
  ]
}