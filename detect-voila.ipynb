{
 "cells": [
  {
   "cell_type": "code",
   "execution_count": 22,
   "id": "c0e9821f-3bde-48e9-9cd2-d7211084074b",
   "metadata": {},
   "outputs": [],
   "source": [
    "import ipywidgets as widgets\n",
    "from PIL import Image\n",
    "from io import BytesIO"
   ]
  },
  {
   "cell_type": "code",
   "execution_count": 23,
   "id": "a0df7dc3-364d-4e87-bc33-edb83114fb24",
   "metadata": {},
   "outputs": [],
   "source": [
    "project_title = 'Pneumonia Detection'\n",
    "project_description = 'Send in your X-Ray and find out if you have pneumonia'\n",
    "title_n_description = widgets.HTML(f'<div align = \"center\"> <h1> {project_title} </h1> <h3> {project_description} </h3> </div>')\n",
    "image_display = widgets.Image(value = b'https://64.media.tumblr.com/cd320e86195dd3072d0953c49c1fecfa/8338aa33e96d4ee9-19/s540x810/f501d0535b1a3e66d8be7578c95bad94f9974fb9.jpg',height = 512, width = 512, format = 'url')\n",
    "pneumonia_button = widgets.Button(description = 'Pneumonia', button_style = 'danger', icon = 'fa-ambulance', disabled = True)\n",
    "normal_button = widgets.Button(description = 'Normal', button_style = 'success', icon = 'fa-check', disabled = True)\n",
    "prediction_display = widgets.HBox([pneumonia_button, normal_button])\n",
    "uploader_label = widgets.HTML(f'<div align = \"center\"> <h3> {\"Upload x-ray image (.jpg only)\"} </h3> </div>')\n",
    "uploader = widgets.FileUpload(accept = 'jpg', multiple = False)\n",
    "box_layout = widgets.Layout(display='flex', align_items='center')\n",
    "display_output = widgets.Output(layout = {'border': '1px solid black'})"
   ]
  },
  {
   "cell_type": "code",
   "execution_count": 24,
   "id": "2c5f8e95-e980-4c02-baee-9c7676e60a7e",
   "metadata": {},
   "outputs": [
    {
     "data": {
      "application/vnd.jupyter.widget-view+json": {
       "model_id": "11e74b474bd1435c8d1e469e081b4422",
       "version_major": 2,
       "version_minor": 0
      },
      "text/plain": [
       "Output(layout=Layout(border='1px solid black'))"
      ]
     },
     "metadata": {},
     "output_type": "display_data"
    }
   ],
   "source": [
    "with display_output:\n",
    "    display(title_n_description)\n",
    "    display(widgets.VBox([image_display, prediction_display, uploader_label, uploader], layout = box_layout))\n",
    "display_output"
   ]
  },
  {
   "cell_type": "code",
   "execution_count": 25,
   "id": "5afc9430-12f3-45c1-b274-5084afa2b890",
   "metadata": {},
   "outputs": [],
   "source": [
    "@display_output.capture(clear_output = False,wait = True)\n",
    "def process_upload(uploader):\n",
    "    from detect import diagnose\n",
    "    x_ray_image_pixels = Image.open(BytesIO(uploader['new'][0]))\n",
    "    diagnosis = diagnose(x_ray_image_pixels)\n",
    "    with display_output:\n",
    "        image_display.format = 'png'\n",
    "        image_display.value = uploader['new'][0]\n",
    "        if diagnosis == 'Normal':\n",
    "            normal_button.disabled = False\n",
    "            pneumonia_button.disabled = True\n",
    "        elif diagnosis == 'Pneumonia':\n",
    "            normal_button.disabled = True\n",
    "            pneumonia_button.disabled = False"
   ]
  },
  {
   "cell_type": "code",
   "execution_count": 26,
   "id": "93acb1e9-d93a-48aa-aff3-3837635d6316",
   "metadata": {},
   "outputs": [],
   "source": [
    "uploader.observe(process_upload, names = 'data')"
   ]
  }
 ],
 "metadata": {
  "kernelspec": {
   "display_name": "Python 3 (ipykernel)",
   "language": "python",
   "name": "python3"
  },
  "language_info": {
   "codemirror_mode": {
    "name": "ipython",
    "version": 3
   },
   "file_extension": ".py",
   "mimetype": "text/x-python",
   "name": "python",
   "nbconvert_exporter": "python",
   "pygments_lexer": "ipython3",
   "version": "3.10.4"
  },
  "vscode": {
   "interpreter": {
    "hash": "ba3e8c086ef45173e8ee27d46efd4c972d0775c023eca2ee23f676f654782d7f"
   }
  }
 },
 "nbformat": 4,
 "nbformat_minor": 5
}
