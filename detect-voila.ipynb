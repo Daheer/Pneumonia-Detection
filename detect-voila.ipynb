{
 "cells": [
  {
   "cell_type": "code",
   "execution_count": 85,
   "id": "c0e9821f-3bde-48e9-9cd2-d7211084074b",
   "metadata": {},
   "outputs": [],
   "source": [
    "import ipywidgets as widgets\n",
    "from PIL import Image\n",
    "from io import BytesIO"
   ]
  },
  {
   "cell_type": "code",
   "execution_count": 90,
   "id": "a0df7dc3-364d-4e87-bc33-edb83114fb24",
   "metadata": {},
   "outputs": [],
   "source": [
    "project_title = 'Pneumonia Detection'\n",
    "project_description = 'Send in your X-Ray and find out if you have pneumonia'\n",
    "title_n_description = widgets.HTML(f'<div align = \"center\"> <h1> {project_title} </h1> <h3> {project_description} </h3> </div>')\n",
    "#file = open(r\".\\images\\placeholder.jpg\", \"rb\")\n",
    "#image = file.read()\n",
    "image_display = widgets.Image(value = image, height = 512, width = 512)\n",
    "pneumonia_button = widgets.Button(description = 'Pneumonia', button_style = 'danger', icon = 'fa-ambulance', disabled = True)\n",
    "normal_button = widgets.Button(description = 'Normal', button_style = 'success', icon = 'fa-check', disabled = True)\n",
    "prediction_display = widgets.HBox([pneumonia_button, normal_button])\n",
    "uploader_label = widgets.HTML(f'<div align = \"center\"> <h3> {\"Upload x-ray image (.jpg only)\"} </h3> </div>')\n",
    "uploader = widgets.FileUpload(accept = 'jpg', multiple = False)\n",
    "box_layout = widgets.Layout(display='flex', align_items='center')\n",
    "display_output = widgets.Output(layout = {'border': '1px solid black'})\n",
    "#file.close()"
   ]
  },
  {
   "cell_type": "code",
   "execution_count": 91,
   "id": "2c5f8e95-e980-4c02-baee-9c7676e60a7e",
   "metadata": {},
   "outputs": [
    {
     "data": {
      "application/vnd.jupyter.widget-view+json": {
       "model_id": "b8e38f97a79d453088ba0a345f90d41e",
       "version_major": 2,
       "version_minor": 0
      },
      "text/plain": [
       "Output(layout=Layout(border='1px solid black'))"
      ]
     },
     "metadata": {},
     "output_type": "display_data"
    }
   ],
   "source": [
    "with display_output:\n",
    "    display(title_n_description)\n",
    "    display(widgets.VBox([image_display, prediction_display, uploader_label, uploader], layout = box_layout))\n",
    "display_output"
   ]
  },
  {
   "cell_type": "code",
   "execution_count": 77,
   "id": "5afc9430-12f3-45c1-b274-5084afa2b890",
   "metadata": {},
   "outputs": [],
   "source": [
    "def process_upload(uploader):\n",
    "    from detect import diagnose\n",
    "    x_ray_image_pixels = Image.open(BytesIO(uploader['new'][0]))\n",
    "    diagnosis = diagnose(x_ray_image_pixels)\n",
    "    with display_output:\n",
    "        image_display.value = uploader['new'][0]\n",
    "        if diagnosis == 'Normal':\n",
    "            normal_button.disabled = False\n",
    "            pneumonia_button.disabled = True\n",
    "        elif diagnosis == 'Pneumonia':\n",
    "            normal_button.disabled = True\n",
    "            pneumonia_button.disabled = False"
   ]
  },
  {
   "cell_type": "code",
   "execution_count": 78,
   "id": "93acb1e9-d93a-48aa-aff3-3837635d6316",
   "metadata": {},
   "outputs": [],
   "source": [
    "uploader.observe(process_upload, names = 'data')"
   ]
  },
  {
   "cell_type": "code",
   "execution_count": null,
   "id": "244b1c5b-4464-46dd-8c29-da16920c506c",
   "metadata": {},
   "outputs": [],
   "source": []
  }
 ],
 "metadata": {
  "kernelspec": {
   "display_name": "Python 3 (ipykernel)",
   "language": "python",
   "name": "python3"
  },
  "language_info": {
   "codemirror_mode": {
    "name": "ipython",
    "version": 3
   },
   "file_extension": ".py",
   "mimetype": "text/x-python",
   "name": "python",
   "nbconvert_exporter": "python",
   "pygments_lexer": "ipython3",
   "version": "3.10.4"
  }
 },
 "nbformat": 4,
 "nbformat_minor": 5
}
